{
 "cells": [
  {
   "cell_type": "code",
   "execution_count": 40,
   "metadata": {},
   "outputs": [
    {
     "name": "stdout",
     "output_type": "stream",
     "text": [
      "2\n",
      "None\n"
     ]
    }
   ],
   "source": [
    "class BinarySearch(object):\n",
    "   \n",
    "    def binarySearch(self,arr, num):\n",
    "        low = 0\n",
    "        high = len(arr) - 1\n",
    "        \n",
    "        while high >= low:\n",
    "            mid = high + low // 2\n",
    "            guess = arr[mid]\n",
    "            if guess == num:\n",
    "                return mid\n",
    "            if guess > num:\n",
    "                high = mid - 1\n",
    "            else:\n",
    "                low = mid + 1\n",
    "        return None\n",
    "\n",
    "bs = BinarySearch()\n",
    "\n",
    "print(bs.binarySearch([0,2,3,4,5],3))\n",
    "\n",
    "print(bs.binarySearch([0,1,2,3,4,5],-1))"
   ]
  },
  {
   "cell_type": "code",
   "execution_count": null,
   "metadata": {},
   "outputs": [],
   "source": []
  }
 ],
 "metadata": {
  "kernelspec": {
   "display_name": "Python 3",
   "language": "python",
   "name": "python3"
  },
  "language_info": {
   "codemirror_mode": {
    "name": "ipython",
    "version": 3
   },
   "file_extension": ".py",
   "mimetype": "text/x-python",
   "name": "python",
   "nbconvert_exporter": "python",
   "pygments_lexer": "ipython3",
   "version": "3.8.5"
  }
 },
 "nbformat": 4,
 "nbformat_minor": 4
}
