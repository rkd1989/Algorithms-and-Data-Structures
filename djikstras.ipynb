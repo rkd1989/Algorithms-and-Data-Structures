{
 "cells": [
  {
   "cell_type": "code",
   "execution_count": 13,
   "metadata": {},
   "outputs": [
    {
     "name": "stdout",
     "output_type": "stream",
     "text": [
      "{'START': {'A': 6, 'B': 2}, 'A': {'FIN': 1}, 'B': {'A': 3, 'FIN': 5}, 'FIN': {}}\n",
      "{'A': 5, 'B': 2, 'FIN': 6}\n",
      "{'A': 'B', 'B': 'START', 'FIN': 'A'}\n"
     ]
    }
   ],
   "source": [
    "graph = {}\n",
    "parents = {}\n",
    "costs = {}\n",
    "graph['START'] = {}\n",
    "graph['START']['A'] = 6\n",
    "graph['START']['B'] = 2\n",
    "graph['A'] = {}\n",
    "graph['A']['FIN'] = 1\n",
    "graph['B'] = {}\n",
    "graph['B']['A']= 3\n",
    "graph['B']['FIN'] = 5\n",
    "graph['FIN'] = {}\n",
    "parents['A']= 'START'\n",
    "parents['B'] = 'START'\n",
    "parents['FIN'] = None\n",
    "costs['A'] = 6 \n",
    "costs['B'] = 2\n",
    "costs['FIN'] = float(\"inf\")\n",
    "\n",
    "class djikstrasAlgo(object):\n",
    "    processed = []\n",
    "\n",
    "    def djikstras(self):\n",
    "        node = self.find_smallest_cost_node(costs)\n",
    "        while node:\n",
    "                neighbours = graph[node]\n",
    "                cost_of_node = costs[node]\n",
    "                \n",
    "                for neighbour in neighbours.keys():\n",
    "                    cost_new = cost_of_node + neighbours[neighbour]\n",
    "                    if cost_new < costs[neighbour]:\n",
    "                        costs[neighbour] = cost_new\n",
    "                        parents[neighbour] = node\n",
    "                self.processed.append(node)\n",
    "                node = self.find_smallest_cost_node(costs)\n",
    "    \n",
    "    def find_smallest_cost_node(self, costs):\n",
    "        cost = float(\"inf\")\n",
    "        return_node = None\n",
    "        for node in costs:\n",
    "            if node not in self.processed:\n",
    "                if costs[node] < cost:\n",
    "                    cost = costs[node]\n",
    "                    return_node = node\n",
    "        return return_node\n",
    "\n",
    "dj = djikstrasAlgo()\n",
    "dj.djikstras()\n",
    "print(graph)\n",
    "print(costs)\n",
    "print(parents)"
   ]
  }
 ],
 "metadata": {
  "kernelspec": {
   "display_name": "Python 3",
   "language": "python",
   "name": "python3"
  },
  "language_info": {
   "codemirror_mode": {
    "name": "ipython",
    "version": 3
   },
   "file_extension": ".py",
   "mimetype": "text/x-python",
   "name": "python",
   "nbconvert_exporter": "python",
   "pygments_lexer": "ipython3",
   "version": "3.8.5"
  }
 },
 "nbformat": 4,
 "nbformat_minor": 4
}
