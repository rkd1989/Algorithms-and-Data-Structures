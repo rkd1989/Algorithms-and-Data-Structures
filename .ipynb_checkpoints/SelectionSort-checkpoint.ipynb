{
 "cells": [
  {
   "cell_type": "code",
   "execution_count": 56,
   "metadata": {},
   "outputs": [
    {
     "name": "stdout",
     "output_type": "stream",
     "text": [
      "[1, 2, 3, 4, 34, 67, 545]\n",
      "[-2, -1, 1, 2, 3, 4, 34, 67, 545]\n"
     ]
    }
   ],
   "source": [
    "class SelectionSort(object):\n",
    "    \n",
    "    def findSmallest(self,arr):\n",
    "        smallest_index = 0\n",
    "        smallest = arr[0]\n",
    "        for index,item in enumerate(arr):\n",
    "            if item < smallest:\n",
    "                smallest = item\n",
    "                smallest_index = index\n",
    "        return smallest_index\n",
    "    \n",
    "    def selectionSort(self,arr):\n",
    "        sortedList = []\n",
    "        for i in range(len(arr)):\n",
    "            smallest = self.findSmallest(arr)\n",
    "            sortedList.append(arr.pop(smallest))  \n",
    "        return sortedList\n",
    "            \n",
    "ss = SelectionSort()\n",
    "\n",
    "print(ss.selectionSort([1,2,3,4,545,67,34]))\n",
    "\n",
    "print(ss.selectionSort([1,2,3,4,545,67,34,-1,-2]))"
   ]
  }
 ],
 "metadata": {
  "kernelspec": {
   "display_name": "Python 3",
   "language": "python",
   "name": "python3"
  },
  "language_info": {
   "codemirror_mode": {
    "name": "ipython",
    "version": 3
   },
   "file_extension": ".py",
   "mimetype": "text/x-python",
   "name": "python",
   "nbconvert_exporter": "python",
   "pygments_lexer": "ipython3",
   "version": "3.8.5"
  }
 },
 "nbformat": 4,
 "nbformat_minor": 4
}
