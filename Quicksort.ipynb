{
 "cells": [
  {
   "cell_type": "code",
   "execution_count": 2,
   "metadata": {},
   "outputs": [
    {
     "data": {
      "text/plain": [
       "[1, 2, 3, 4, 5, 6, 7, 8, 9]"
      ]
     },
     "execution_count": 2,
     "metadata": {},
     "output_type": "execute_result"
    }
   ],
   "source": [
    "class QuickSort(object):\n",
    "    def quickSort(self,arr):\n",
    "        if len(arr) < 2:\n",
    "            return arr\n",
    "        else:\n",
    "            pivot = arr[0]\n",
    "            smaller = [i for i in arr[1:] if i < pivot]\n",
    "            greater = [i for i in arr[1:] if i > pivot]\n",
    "            return self.quickSort(smaller) + [pivot] + self.quickSort(greater)\n",
    "qs = QuickSort()\n",
    "qs.quickSort([9,8,7,6,5,4,3,2,1])"
   ]
  },
  {
   "cell_type": "code",
   "execution_count": null,
   "metadata": {},
   "outputs": [],
   "source": []
  }
 ],
 "metadata": {
  "kernelspec": {
   "display_name": "Python 3",
   "language": "python",
   "name": "python3"
  },
  "language_info": {
   "codemirror_mode": {
    "name": "ipython",
    "version": 3
   },
   "file_extension": ".py",
   "mimetype": "text/x-python",
   "name": "python",
   "nbconvert_exporter": "python",
   "pygments_lexer": "ipython3",
   "version": "3.8.5"
  }
 },
 "nbformat": 4,
 "nbformat_minor": 4
}
