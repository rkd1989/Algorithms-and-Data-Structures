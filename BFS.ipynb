{
 "cells": [
  {
   "cell_type": "code",
   "execution_count": 11,
   "metadata": {},
   "outputs": [
    {
     "name": "stdout",
     "output_type": "stream",
     "text": [
      "['BOB']\n",
      "['BOB', 'ALICE']\n",
      "['BOB', 'ALICE', 'CLAIRE']\n",
      "['BOB', 'ALICE', 'CLAIRE', 'ANUJ']\n",
      "['BOB', 'ALICE', 'CLAIRE', 'ANUJ', 'PEGGY']\n",
      "THOM is a mango seller\n"
     ]
    },
    {
     "data": {
      "text/plain": [
       "True"
      ]
     },
     "execution_count": 11,
     "metadata": {},
     "output_type": "execute_result"
    }
   ],
   "source": [
    "graph = {}\n",
    "graph['YOU'] = ['BOB','ALICE','CLAIRE']\n",
    "graph['BOB'] = ['ANUJ', 'PEGGY']\n",
    "graph['ALICE'] = ['PEGGY']\n",
    "graph['CLAIRE'] = ['THOM', 'JONNY']\n",
    "graph['ANUJ'] = []\n",
    "graph['PEGGY'] = []\n",
    "graph['THOM'] = []\n",
    "graph['JONNY'] = []\n",
    "\n",
    "from collections import deque\n",
    "class bfs(object):\n",
    "    def breadth_first_search(self,name):\n",
    "        search_queue = deque()\n",
    "        search_queue += graph[name]\n",
    "        searched = []\n",
    "        \n",
    "        while search_queue:\n",
    "            person = search_queue.popleft()\n",
    "            if person not in searched:\n",
    "                if self.is_a_mango_seller(person):\n",
    "                    print(person + \" is a mango seller\")\n",
    "                    return True\n",
    "                else:\n",
    "                    searched.append(person)\n",
    "                    print(searched)\n",
    "                    search_queue += graph[person]\n",
    "        return False\n",
    "    \n",
    "    def is_a_mango_seller(self,person):\n",
    "        if person[-1] == 'M':\n",
    "            return True\n",
    "        else:\n",
    "            return False\n",
    "\n",
    "bfs = bfs()\n",
    "bfs.breadth_first_search('YOU')"
   ]
  },
  {
   "cell_type": "code",
   "execution_count": null,
   "metadata": {},
   "outputs": [],
   "source": []
  }
 ],
 "metadata": {
  "kernelspec": {
   "display_name": "Python 3",
   "language": "python",
   "name": "python3"
  },
  "language_info": {
   "codemirror_mode": {
    "name": "ipython",
    "version": 3
   },
   "file_extension": ".py",
   "mimetype": "text/x-python",
   "name": "python",
   "nbconvert_exporter": "python",
   "pygments_lexer": "ipython3",
   "version": "3.8.5"
  }
 },
 "nbformat": 4,
 "nbformat_minor": 4
}
